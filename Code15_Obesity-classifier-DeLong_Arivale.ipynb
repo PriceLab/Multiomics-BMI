{
 "cells": [
  {
   "cell_type": "markdown",
   "id": "fbb60de2-0b26-49e6-b213-dab5b7c75936",
   "metadata": {},
   "source": [
    "# Multiomics BMI Paper — Gut Microbiome-based Obesity Classifier in the Arivale Cohort: DeLong's Test"
   ]
  },
  {
   "cell_type": "markdown",
   "id": "80cac39d-dfc4-4313-848f-6cbfd2255756",
   "metadata": {},
   "source": [
    "***by Kengo Watanabe***  \n",
    "\n",
    "This Jupyter Notebook (with R kernel) performed DeLong's test for the gut microbiome-based obesity classifiers in the Arivale cohort (as the sub-notebook).  \n",
    "\n",
    "Input files:  \n",
    "* Arivale classifier predictions: 221010_Multiomics-BMI-NatMed1stRevision_Microbiome-RFclassifier-ver5_Arivale-wenceslaus_\\[BMI/MetBMI\\]class-BothSex.tsv  \n",
    "\n",
    "Output figures and tables:  \n",
    "* Intermediate tables for the main notebook (ROC curve, test result)  \n",
    "\n",
    "Original notebook (memo for my future tracing):  \n",
    "* wenceslaus:\\[JupyterLab HOME\\]/220621_Multiomics-BMI-NatMedRevision/221010_Multiomics-BMI-NatMed1stRevision_Microbiome-RFclassifier-DeLong-ver5_Arivale-wenceslaus.ipynb  "
   ]
  },
  {
   "cell_type": "code",
   "execution_count": 1,
   "id": "f141e4af-e174-4f1a-a88e-7e1396a865cd",
   "metadata": {
    "tags": []
   },
   "outputs": [
    {
     "name": "stderr",
     "output_type": "stream",
     "text": [
      "── \u001b[1mAttaching packages\u001b[22m ─────────────────────────────────────── tidyverse 1.3.1 ──\n",
      "\n",
      "\u001b[32m✔\u001b[39m \u001b[34mggplot2\u001b[39m 3.3.5     \u001b[32m✔\u001b[39m \u001b[34mpurrr  \u001b[39m 0.3.4\n",
      "\u001b[32m✔\u001b[39m \u001b[34mtibble \u001b[39m 3.1.5     \u001b[32m✔\u001b[39m \u001b[34mdplyr  \u001b[39m 1.0.7\n",
      "\u001b[32m✔\u001b[39m \u001b[34mtidyr  \u001b[39m 1.1.4     \u001b[32m✔\u001b[39m \u001b[34mstringr\u001b[39m 1.4.0\n",
      "\u001b[32m✔\u001b[39m \u001b[34mreadr  \u001b[39m 2.0.2     \u001b[32m✔\u001b[39m \u001b[34mforcats\u001b[39m 0.5.1\n",
      "\n",
      "── \u001b[1mConflicts\u001b[22m ────────────────────────────────────────── tidyverse_conflicts() ──\n",
      "\u001b[31m✖\u001b[39m \u001b[34mdplyr\u001b[39m::\u001b[32mfilter()\u001b[39m masks \u001b[34mstats\u001b[39m::filter()\n",
      "\u001b[31m✖\u001b[39m \u001b[34mdplyr\u001b[39m::\u001b[32mlag()\u001b[39m    masks \u001b[34mstats\u001b[39m::lag()\n",
      "\n",
      "Type 'citation(\"pROC\")' for a citation.\n",
      "\n",
      "\n",
      "Attaching package: ‘pROC’\n",
      "\n",
      "\n",
      "The following objects are masked from ‘package:stats’:\n",
      "\n",
      "    cov, smooth, var\n",
      "\n",
      "\n"
     ]
    },
    {
     "name": "stdout",
     "output_type": "stream",
     "text": [
      "[1] \"pROC: 1.18.0\"\n"
     ]
    }
   ],
   "source": [
    "library(\"tidyverse\")\n",
    "options(repr.plot.width=5, repr.plot.height=5)#Default=7x7\n",
    "\n",
    "#CRAN\n",
    "for (package in c(\"pROC\")) {\n",
    "    #install.packages(package)\n",
    "    eval(bquote(library(.(package))))\n",
    "    print(str_c(package, \": \", as.character(packageVersion(package))))\n",
    "}"
   ]
  },
  {
   "cell_type": "markdown",
   "id": "27c49965-5417-4ee7-bd9b-65e09e831322",
   "metadata": {},
   "source": [
    "## 1. Prepare classifier predictions"
   ]
  },
  {
   "cell_type": "code",
   "execution_count": null,
   "id": "d02334e8-8a46-445a-a85f-33f62cef518c",
   "metadata": {},
   "outputs": [],
   "source": [
    "#Import classifier predictions\n",
    "fileDir <- \"./ExportData/\"\n",
    "ipynbName <- \"221010_Multiomics-BMI-NatMed1stRevision_Microbiome-RFclassifier-ver5_Arivale-wenceslaus_\"\n",
    "fileName <- \"BMIclass-BothSex.tsv\"\n",
    "temp <- read_delim(str_c(fileDir,ipynbName,fileName), delim=\"\\t\")\n",
    "print(str_c(\"nrow: \",nrow(temp)))\n",
    "head(temp)\n",
    "\n",
    "predict_meas <- temp"
   ]
  },
  {
   "cell_type": "code",
   "execution_count": null,
   "id": "a1559c91-904d-4bb1-bb4b-947e17346817",
   "metadata": {},
   "outputs": [],
   "source": [
    "#Import classifier predictions\n",
    "fileDir <- \"./ExportData/\"\n",
    "ipynbName <- \"221010_Multiomics-BMI-NatMed1stRevision_Microbiome-RFclassifier-ver5_Arivale-wenceslaus_\"\n",
    "fileName <- \"MetBMIclass-BothSex.tsv\"\n",
    "temp <- read_delim(str_c(fileDir,ipynbName,fileName), delim=\"\\t\")\n",
    "print(str_c(\"nrow: \",nrow(temp)))\n",
    "head(temp)\n",
    "\n",
    "predict_met <- temp"
   ]
  },
  {
   "cell_type": "markdown",
   "id": "481366ab-2fcb-42d7-bdfb-282a1c698f62",
   "metadata": {},
   "source": [
    "## 2. Generate ROC object"
   ]
  },
  {
   "cell_type": "code",
   "execution_count": null,
   "id": "d6031244-072b-4169-a402-5f5082b8af54",
   "metadata": {},
   "outputs": [],
   "source": [
    "#Generate ROC object with 95% CI for sensitivity\n",
    "roc_meas <- roc(predict_meas$BMI_class_code, predict_meas$`BMI_class_predicted-probability`,\n",
    "                ci=TRUE, of=\"se\", conf.level=0.95, boot.n=10000, boot.stratified=TRUE,\n",
    "                specificities=seq(0, 1, 0.01))\n",
    "roc_meas"
   ]
  },
  {
   "cell_type": "code",
   "execution_count": null,
   "id": "2bda5671-9d50-42f5-81d5-a5f73bb1b7e0",
   "metadata": {},
   "outputs": [],
   "source": [
    "#Generate ROC object with 95% CI for sensitivity\n",
    "roc_met <- roc(predict_met$MetBMI_class_code, predict_met$`MetBMI_class_predicted-probability`,\n",
    "               ci=TRUE, of=\"se\", conf.level=0.95, boot.n=10000, boot.stratified=TRUE,\n",
    "               specificities=seq(0, 1, 0.01))\n",
    "roc_met"
   ]
  },
  {
   "cell_type": "code",
   "execution_count": null,
   "id": "1c21e8e0-af43-48f6-a788-5e428b836835",
   "metadata": {},
   "outputs": [],
   "source": [
    "#Visualization with 95% CI for sensitivity\n",
    "plot.roc(roc_meas, legacy.axes=TRUE, col=\"black\", print.auc=TRUE, print.auc.y=0.4,\n",
    "         ci=TRUE, ci.type=\"shape\", ci.col=rgb(red=0, green=0, blue=0, alpha=0.2),\n",
    "         identity=TRUE, identity.col=\"red\")\n",
    "plot.roc(roc_met, add=TRUE, legacy.axes=TRUE, col=\"blue\", print.auc=TRUE, print.auc.y=0.2,\n",
    "         ci=TRUE, ci.type=\"shape\", ci.col=rgb(red=0, green=0, blue=1, alpha=0.2),\n",
    "         identity=TRUE, identity.col=\"red\")"
   ]
  },
  {
   "cell_type": "markdown",
   "id": "a9b394c6-37d4-43e2-983d-488d5986824f",
   "metadata": {},
   "source": [
    "> –> This is just a reference. 95% CI for sensitivity should be removed in the final figure, because DeLong's test assesses AUC, not sensitivity at a threshold.  "
   ]
  },
  {
   "cell_type": "code",
   "execution_count": null,
   "id": "bb741478-e8b3-46e9-ba33-bbc7a4fb80d6",
   "metadata": {},
   "outputs": [],
   "source": [
    "#Visualization\n",
    "plot.roc(roc_meas, legacy.axes=TRUE, col=\"black\", print.auc=TRUE, print.auc.y=0.4,\n",
    "         ci=FALSE, identity=TRUE, identity.col=\"red\")\n",
    "plot.roc(roc_met, add=TRUE, legacy.axes=TRUE, col=\"blue\", print.auc=TRUE, print.auc.y=0.2,\n",
    "         ci=FALSE, identity=TRUE, identity.col=\"red\")"
   ]
  },
  {
   "cell_type": "markdown",
   "id": "45b167f5-1cea-4425-8efe-43588b723cef",
   "metadata": {},
   "source": [
    "> –> Final neat figure will be generated in Python.  "
   ]
  },
  {
   "cell_type": "markdown",
   "id": "190df0e9-92ee-4668-bcdb-8a39b39d7176",
   "metadata": {},
   "source": [
    "## 3. 95% CI of AUC"
   ]
  },
  {
   "cell_type": "code",
   "execution_count": null,
   "id": "f583400e-bff3-426c-b78a-2ec746d2c152",
   "metadata": {},
   "outputs": [],
   "source": [
    "print(\"BMI\")\n",
    "print(\"AUC 95% CI (DeLong):\")\n",
    "ci.auc(roc_meas, conf.level=0.95, method=\"delong\")\n",
    "print(\"AUC 95% CI (10000 bootstrap):\")\n",
    "ci.auc(roc_meas, conf.level=0.95, method=\"bootstrap\", boot.n=10000, boot.stratified=TRUE)\n",
    "\n",
    "print(\"MetBMI\")\n",
    "print(\"AUC 95% CI (DeLong):\")\n",
    "ci.auc(roc_met, conf.level=0.95, method=\"delong\")\n",
    "print(\"AUC 95% CI (10000 bootstrap):\")\n",
    "ci.auc(roc_met, conf.level=0.95, method=\"bootstrap\", boot.n=10000, boot.stratified=TRUE)"
   ]
  },
  {
   "cell_type": "markdown",
   "id": "2ad8b925-7c43-4956-9af2-a14aab6c5884",
   "metadata": {},
   "source": [
    "## 4. DeLong's test"
   ]
  },
  {
   "cell_type": "code",
   "execution_count": null,
   "id": "98893052-9469-49b4-9bad-64e5513cb5b7",
   "metadata": {},
   "outputs": [],
   "source": [
    "#DeLong's test\n",
    "test_delong <- roc.test(roc_meas, roc_met, method=\"delong\",\n",
    "                        alternative=\"two.sided\", paired=FALSE, conf.level=0.95, conf.int=TRUE)\n",
    "test_delong"
   ]
  },
  {
   "cell_type": "code",
   "execution_count": null,
   "id": "73d7702d-a862-43ff-822e-50f4946511a9",
   "metadata": {},
   "outputs": [],
   "source": [
    "#Cf. Bootstrap test\n",
    "test_boot <- roc.test(roc_meas, roc_met, method=\"bootstrap\",\n",
    "                      alternative=\"two.sided\", paired=FALSE, conf.level=0.95, conf.int=TRUE,\n",
    "                      boot.n=10000, boot.stratified=TRUE)\n",
    "test_boot"
   ]
  },
  {
   "cell_type": "markdown",
   "id": "956cd52c-1794-412e-8316-fa62ee88a23e",
   "metadata": {},
   "source": [
    "## 5. Save result summary"
   ]
  },
  {
   "cell_type": "code",
   "execution_count": null,
   "id": "0b0e37b6-14e5-48b2-baa2-326020263728",
   "metadata": {},
   "outputs": [],
   "source": [
    "#Check result object\n",
    "summary(test_delong)\n",
    "print(\"\")\n",
    "str(test_delong)"
   ]
  },
  {
   "cell_type": "markdown",
   "id": "48acba10-3a8e-4e6d-971e-899a45f7663c",
   "metadata": {},
   "source": [
    "> –> Note that, even if conf.int option is TRUE, confidence interval output for unpaired test is not currently supported by the pROC package.  "
   ]
  },
  {
   "cell_type": "code",
   "execution_count": null,
   "id": "afbef27a-45d3-464a-9b5c-b9ff8f3e1f60",
   "metadata": {},
   "outputs": [],
   "source": [
    "#Summarize the test result as a table\n",
    "temp <- tibble(Variable=\"AUC (ROC)\",\n",
    "               nCtrls_BMI=length(test_delong$roc1$controls),\n",
    "               nCases_BMI=length(test_delong$roc1$cases),\n",
    "               Estimate_BMI=unname(test_delong$estimate[1]),\n",
    "               nCtrls_MetBMI=length(test_delong$roc2$controls),\n",
    "               nCases_MetBMI=length(test_delong$roc2$cases),\n",
    "               Estimate_MetBMI=unname(test_delong$estimate[2]),\n",
    "               DoF=unname(test_delong$parameter),\n",
    "               Zstatistic=unname(test_delong$statistic),\n",
    "               Pval=test_delong$p.value)\n",
    "temp\n",
    "\n",
    "#Save\n",
    "fileDir <- \"./ExportData/\"\n",
    "ipynbName <- \"221010_Multiomics-BMI-NatMed1stRevision_Microbiome-RFclassifier-DeLong-ver5_Arivale-wenceslaus_\"\n",
    "fileName <- \"result-summary.tsv\"\n",
    "temp %>% write_tsv(str_c(fileDir,ipynbName,fileName))"
   ]
  },
  {
   "cell_type": "code",
   "execution_count": null,
   "id": "c3aeacdd-640b-491c-8aac-5df2a26bb845",
   "metadata": {},
   "outputs": [],
   "source": [
    "#Summarize ROC curve as a table\n",
    "temp <- tibble(Sensitivity=test_delong$roc1$sensitivities,\n",
    "               Specificity=test_delong$roc1$specificities,\n",
    "               Thresholds=test_delong$roc1$thresholds)\n",
    "print(str_c(\"nrow: \",nrow(temp)))\n",
    "head(temp)\n",
    "tail(temp)\n",
    "##Save\n",
    "fileDir <- \"./ExportData/\"\n",
    "ipynbName <- \"221010_Multiomics-BMI-NatMed1stRevision_Microbiome-RFclassifier-DeLong-ver5_Arivale-wenceslaus_\"\n",
    "fileName <- \"BMI-ROC-curve.tsv\"\n",
    "temp %>% write_tsv(str_c(fileDir,ipynbName,fileName))"
   ]
  },
  {
   "cell_type": "code",
   "execution_count": null,
   "id": "e5852a8e-7c17-4569-beac-5726a8ac5b2e",
   "metadata": {},
   "outputs": [],
   "source": [
    "#Summarize ROC curve as a table\n",
    "temp <- tibble(Sensitivity=test_delong$roc2$sensitivities,\n",
    "               Specificity=test_delong$roc2$specificities,\n",
    "               Thresholds=test_delong$roc2$thresholds)\n",
    "print(str_c(\"nrow: \",nrow(temp)))\n",
    "head(temp)\n",
    "tail(temp)\n",
    "##Save\n",
    "fileDir <- \"./ExportData/\"\n",
    "ipynbName <- \"221010_Multiomics-BMI-NatMed1stRevision_Microbiome-RFclassifier-DeLong-ver5_Arivale-wenceslaus_\"\n",
    "fileName <- \"MetBMI-ROC-curve.tsv\"\n",
    "temp %>% write_tsv(str_c(fileDir,ipynbName,fileName))"
   ]
  },
  {
   "cell_type": "markdown",
   "id": "40c06919-111f-4866-8209-02234fb94b95",
   "metadata": {},
   "source": [
    "# — Move back to the main Python notebook —  "
   ]
  },
  {
   "cell_type": "markdown",
   "id": "71adff3d-628b-4d88-817e-1450a1d14d84",
   "metadata": {},
   "source": [
    "# — Session information —"
   ]
  },
  {
   "cell_type": "code",
   "execution_count": 15,
   "id": "5e55c69b-50c9-49fb-8216-6d54a0c9a7ea",
   "metadata": {},
   "outputs": [
    {
     "data": {
      "text/plain": [
       "R version 4.1.1 (2021-08-10)\n",
       "Platform: x86_64-conda-linux-gnu (64-bit)\n",
       "Running under: Ubuntu 20.04.3 LTS\n",
       "\n",
       "Matrix products: default\n",
       "BLAS/LAPACK: /opt/conda/envs/arivale-r/lib/libopenblasp-r0.3.18.so\n",
       "\n",
       "locale:\n",
       " [1] LC_CTYPE=en_US.UTF-8       LC_NUMERIC=C              \n",
       " [3] LC_TIME=en_US.UTF-8        LC_COLLATE=en_US.UTF-8    \n",
       " [5] LC_MONETARY=en_US.UTF-8    LC_MESSAGES=en_US.UTF-8   \n",
       " [7] LC_PAPER=en_US.UTF-8       LC_NAME=C                 \n",
       " [9] LC_ADDRESS=C               LC_TELEPHONE=C            \n",
       "[11] LC_MEASUREMENT=en_US.UTF-8 LC_IDENTIFICATION=C       \n",
       "\n",
       "attached base packages:\n",
       "[1] stats     graphics  grDevices utils     datasets  methods   base     \n",
       "\n",
       "other attached packages:\n",
       " [1] pROC_1.18.0     forcats_0.5.1   stringr_1.4.0   dplyr_1.0.7    \n",
       " [5] purrr_0.3.4     readr_2.0.2     tidyr_1.1.4     tibble_3.1.5   \n",
       " [9] ggplot2_3.3.5   tidyverse_1.3.1\n",
       "\n",
       "loaded via a namespace (and not attached):\n",
       " [1] Rcpp_1.0.7       lubridate_1.8.0  assertthat_0.2.1 digest_0.6.28   \n",
       " [5] utf8_1.2.2       IRdisplay_1.0    R6_2.5.1         cellranger_1.1.0\n",
       " [9] plyr_1.8.6       repr_1.1.3       backports_1.2.1  reprex_2.0.1    \n",
       "[13] evaluate_0.14    httr_1.4.2       pillar_1.6.4     rlang_0.4.12    \n",
       "[17] uuid_0.1-4       readxl_1.3.1     rstudioapi_0.13  bit_4.0.4       \n",
       "[21] munsell_0.5.0    broom_0.7.9      compiler_4.1.1   modelr_0.1.8    \n",
       "[25] pkgconfig_2.0.3  base64enc_0.1-3  htmltools_0.5.2  tidyselect_1.1.1\n",
       "[29] fansi_0.4.2      crayon_1.4.1     tzdb_0.1.2       dbplyr_2.1.1    \n",
       "[33] withr_2.4.2      grid_4.1.1       jsonlite_1.7.2   gtable_0.3.0    \n",
       "[37] lifecycle_1.0.1  DBI_1.1.1        magrittr_2.0.1   scales_1.1.1    \n",
       "[41] cli_3.0.1        stringi_1.7.5    vroom_1.5.5      fs_1.5.0        \n",
       "[45] xml2_1.3.2       ellipsis_0.3.2   generics_0.1.0   vctrs_0.3.8     \n",
       "[49] IRkernel_1.2     tools_4.1.1      bit64_4.0.5      glue_1.4.2      \n",
       "[53] hms_1.1.1        parallel_4.1.1   fastmap_1.1.0    colorspace_2.0-2\n",
       "[57] rvest_1.0.2      pbdZMQ_0.3-5     haven_2.4.3     "
      ]
     },
     "metadata": {},
     "output_type": "display_data"
    }
   ],
   "source": [
    "sessionInfo()"
   ]
  }
 ],
 "metadata": {
  "kernelspec": {
   "display_name": "arivale-r - R",
   "language": "R",
   "name": "conda-env-arivale-r-r"
  },
  "language_info": {
   "codemirror_mode": "r",
   "file_extension": ".r",
   "mimetype": "text/x-r-source",
   "name": "R",
   "pygments_lexer": "r",
   "version": "4.1.1"
  },
  "widgets": {
   "application/vnd.jupyter.widget-state+json": {
    "state": {},
    "version_major": 2,
    "version_minor": 0
   }
  }
 },
 "nbformat": 4,
 "nbformat_minor": 5
}
